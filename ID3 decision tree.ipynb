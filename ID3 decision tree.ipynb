{
  "nbformat": 4,
  "nbformat_minor": 0,
  "metadata": {
    "colab": {
      "provenance": []
    },
    "kernelspec": {
      "name": "python3",
      "display_name": "Python 3"
    },
    "language_info": {
      "name": "python"
    }
  },
  "cells": [
    {
      "cell_type": "markdown",
      "source": [
        "**Importing the necessary libraries**"
      ],
      "metadata": {
        "id": "klYNKAiyZfNg"
      }
    },
    {
      "cell_type": "code",
      "execution_count": 43,
      "metadata": {
        "id": "iSkK25edP0PB"
      },
      "outputs": [],
      "source": [
        "#importing the library needed for the project\n",
        "import pandas as pd\n",
        "import numpy as np\n",
        "import sklearn\n",
        "import matplotlib.pyplot as plt"
      ]
    },
    {
      "cell_type": "markdown",
      "source": [
        "**Uploading the data**"
      ],
      "metadata": {
        "id": "Qe0QAUmVZtnW"
      }
    },
    {
      "cell_type": "code",
      "source": [
        "#loading the data from sklearn\n",
        "from sklearn.datasets import load_wine\n",
        "data = load_wine()\n",
        "data"
      ],
      "metadata": {
        "colab": {
          "base_uri": "https://localhost:8080/"
        },
        "id": "Vx7KvgVQQUMK",
        "outputId": "048718f2-1679-4de0-ae4d-af1740f8d5dc"
      },
      "execution_count": 44,
      "outputs": [
        {
          "output_type": "execute_result",
          "data": {
            "text/plain": [
              "{'data': array([[1.423e+01, 1.710e+00, 2.430e+00, ..., 1.040e+00, 3.920e+00,\n",
              "         1.065e+03],\n",
              "        [1.320e+01, 1.780e+00, 2.140e+00, ..., 1.050e+00, 3.400e+00,\n",
              "         1.050e+03],\n",
              "        [1.316e+01, 2.360e+00, 2.670e+00, ..., 1.030e+00, 3.170e+00,\n",
              "         1.185e+03],\n",
              "        ...,\n",
              "        [1.327e+01, 4.280e+00, 2.260e+00, ..., 5.900e-01, 1.560e+00,\n",
              "         8.350e+02],\n",
              "        [1.317e+01, 2.590e+00, 2.370e+00, ..., 6.000e-01, 1.620e+00,\n",
              "         8.400e+02],\n",
              "        [1.413e+01, 4.100e+00, 2.740e+00, ..., 6.100e-01, 1.600e+00,\n",
              "         5.600e+02]]),\n",
              " 'target': array([0, 0, 0, 0, 0, 0, 0, 0, 0, 0, 0, 0, 0, 0, 0, 0, 0, 0, 0, 0, 0, 0,\n",
              "        0, 0, 0, 0, 0, 0, 0, 0, 0, 0, 0, 0, 0, 0, 0, 0, 0, 0, 0, 0, 0, 0,\n",
              "        0, 0, 0, 0, 0, 0, 0, 0, 0, 0, 0, 0, 0, 0, 0, 1, 1, 1, 1, 1, 1, 1,\n",
              "        1, 1, 1, 1, 1, 1, 1, 1, 1, 1, 1, 1, 1, 1, 1, 1, 1, 1, 1, 1, 1, 1,\n",
              "        1, 1, 1, 1, 1, 1, 1, 1, 1, 1, 1, 1, 1, 1, 1, 1, 1, 1, 1, 1, 1, 1,\n",
              "        1, 1, 1, 1, 1, 1, 1, 1, 1, 1, 1, 1, 1, 1, 1, 1, 1, 1, 1, 1, 2, 2,\n",
              "        2, 2, 2, 2, 2, 2, 2, 2, 2, 2, 2, 2, 2, 2, 2, 2, 2, 2, 2, 2, 2, 2,\n",
              "        2, 2, 2, 2, 2, 2, 2, 2, 2, 2, 2, 2, 2, 2, 2, 2, 2, 2, 2, 2, 2, 2,\n",
              "        2, 2]),\n",
              " 'frame': None,\n",
              " 'target_names': array(['class_0', 'class_1', 'class_2'], dtype='<U7'),\n",
              " 'DESCR': '.. _wine_dataset:\\n\\nWine recognition dataset\\n------------------------\\n\\n**Data Set Characteristics:**\\n\\n    :Number of Instances: 178\\n    :Number of Attributes: 13 numeric, predictive attributes and the class\\n    :Attribute Information:\\n \\t\\t- Alcohol\\n \\t\\t- Malic acid\\n \\t\\t- Ash\\n\\t\\t- Alcalinity of ash  \\n \\t\\t- Magnesium\\n\\t\\t- Total phenols\\n \\t\\t- Flavanoids\\n \\t\\t- Nonflavanoid phenols\\n \\t\\t- Proanthocyanins\\n\\t\\t- Color intensity\\n \\t\\t- Hue\\n \\t\\t- OD280/OD315 of diluted wines\\n \\t\\t- Proline\\n\\n    - class:\\n            - class_0\\n            - class_1\\n            - class_2\\n\\t\\t\\n    :Summary Statistics:\\n    \\n    ============================= ==== ===== ======= =====\\n                                   Min   Max   Mean     SD\\n    ============================= ==== ===== ======= =====\\n    Alcohol:                      11.0  14.8    13.0   0.8\\n    Malic Acid:                   0.74  5.80    2.34  1.12\\n    Ash:                          1.36  3.23    2.36  0.27\\n    Alcalinity of Ash:            10.6  30.0    19.5   3.3\\n    Magnesium:                    70.0 162.0    99.7  14.3\\n    Total Phenols:                0.98  3.88    2.29  0.63\\n    Flavanoids:                   0.34  5.08    2.03  1.00\\n    Nonflavanoid Phenols:         0.13  0.66    0.36  0.12\\n    Proanthocyanins:              0.41  3.58    1.59  0.57\\n    Colour Intensity:              1.3  13.0     5.1   2.3\\n    Hue:                          0.48  1.71    0.96  0.23\\n    OD280/OD315 of diluted wines: 1.27  4.00    2.61  0.71\\n    Proline:                       278  1680     746   315\\n    ============================= ==== ===== ======= =====\\n\\n    :Missing Attribute Values: None\\n    :Class Distribution: class_0 (59), class_1 (71), class_2 (48)\\n    :Creator: R.A. Fisher\\n    :Donor: Michael Marshall (MARSHALL%PLU@io.arc.nasa.gov)\\n    :Date: July, 1988\\n\\nThis is a copy of UCI ML Wine recognition datasets.\\nhttps://archive.ics.uci.edu/ml/machine-learning-databases/wine/wine.data\\n\\nThe data is the results of a chemical analysis of wines grown in the same\\nregion in Italy by three different cultivators. There are thirteen different\\nmeasurements taken for different constituents found in the three types of\\nwine.\\n\\nOriginal Owners: \\n\\nForina, M. et al, PARVUS - \\nAn Extendible Package for Data Exploration, Classification and Correlation. \\nInstitute of Pharmaceutical and Food Analysis and Technologies,\\nVia Brigata Salerno, 16147 Genoa, Italy.\\n\\nCitation:\\n\\nLichman, M. (2013). UCI Machine Learning Repository\\n[https://archive.ics.uci.edu/ml]. Irvine, CA: University of California,\\nSchool of Information and Computer Science. \\n\\n.. topic:: References\\n\\n  (1) S. Aeberhard, D. Coomans and O. de Vel, \\n  Comparison of Classifiers in High Dimensional Settings, \\n  Tech. Rep. no. 92-02, (1992), Dept. of Computer Science and Dept. of  \\n  Mathematics and Statistics, James Cook University of North Queensland. \\n  (Also submitted to Technometrics). \\n\\n  The data was used with many others for comparing various \\n  classifiers. The classes are separable, though only RDA \\n  has achieved 100% correct classification. \\n  (RDA : 100%, QDA 99.4%, LDA 98.9%, 1NN 96.1% (z-transformed data)) \\n  (All results using the leave-one-out technique) \\n\\n  (2) S. Aeberhard, D. Coomans and O. de Vel, \\n  \"THE CLASSIFICATION PERFORMANCE OF RDA\" \\n  Tech. Rep. no. 92-01, (1992), Dept. of Computer Science and Dept. of \\n  Mathematics and Statistics, James Cook University of North Queensland. \\n  (Also submitted to Journal of Chemometrics).\\n',\n",
              " 'feature_names': ['alcohol',\n",
              "  'malic_acid',\n",
              "  'ash',\n",
              "  'alcalinity_of_ash',\n",
              "  'magnesium',\n",
              "  'total_phenols',\n",
              "  'flavanoids',\n",
              "  'nonflavanoid_phenols',\n",
              "  'proanthocyanins',\n",
              "  'color_intensity',\n",
              "  'hue',\n",
              "  'od280/od315_of_diluted_wines',\n",
              "  'proline']}"
            ]
          },
          "metadata": {},
          "execution_count": 44
        }
      ]
    },
    {
      "cell_type": "markdown",
      "source": [
        "**Understanding and vewing the data**"
      ],
      "metadata": {
        "id": "bxrVeq6QZWEV"
      }
    },
    {
      "cell_type": "code",
      "source": [
        "data = pd.DataFrame(data=data.data, columns=data.feature_names)\n",
        "data.head()"
      ],
      "metadata": {
        "colab": {
          "base_uri": "https://localhost:8080/",
          "height": 226
        },
        "id": "qyBEVRtSRAaJ",
        "outputId": "8aa66e32-554a-49ad-e7bd-6e94402a526b"
      },
      "execution_count": 45,
      "outputs": [
        {
          "output_type": "execute_result",
          "data": {
            "text/plain": [
              "   alcohol  malic_acid   ash  alcalinity_of_ash  magnesium  total_phenols  \\\n",
              "0    14.23        1.71  2.43               15.6      127.0           2.80   \n",
              "1    13.20        1.78  2.14               11.2      100.0           2.65   \n",
              "2    13.16        2.36  2.67               18.6      101.0           2.80   \n",
              "3    14.37        1.95  2.50               16.8      113.0           3.85   \n",
              "4    13.24        2.59  2.87               21.0      118.0           2.80   \n",
              "\n",
              "   flavanoids  nonflavanoid_phenols  proanthocyanins  color_intensity   hue  \\\n",
              "0        3.06                  0.28             2.29             5.64  1.04   \n",
              "1        2.76                  0.26             1.28             4.38  1.05   \n",
              "2        3.24                  0.30             2.81             5.68  1.03   \n",
              "3        3.49                  0.24             2.18             7.80  0.86   \n",
              "4        2.69                  0.39             1.82             4.32  1.04   \n",
              "\n",
              "   od280/od315_of_diluted_wines  proline  \n",
              "0                          3.92   1065.0  \n",
              "1                          3.40   1050.0  \n",
              "2                          3.17   1185.0  \n",
              "3                          3.45   1480.0  \n",
              "4                          2.93    735.0  "
            ],
            "text/html": [
              "\n",
              "  <div id=\"df-bb24b4d4-8589-4e36-9b2e-40546bd6bd99\" class=\"colab-df-container\">\n",
              "    <div>\n",
              "<style scoped>\n",
              "    .dataframe tbody tr th:only-of-type {\n",
              "        vertical-align: middle;\n",
              "    }\n",
              "\n",
              "    .dataframe tbody tr th {\n",
              "        vertical-align: top;\n",
              "    }\n",
              "\n",
              "    .dataframe thead th {\n",
              "        text-align: right;\n",
              "    }\n",
              "</style>\n",
              "<table border=\"1\" class=\"dataframe\">\n",
              "  <thead>\n",
              "    <tr style=\"text-align: right;\">\n",
              "      <th></th>\n",
              "      <th>alcohol</th>\n",
              "      <th>malic_acid</th>\n",
              "      <th>ash</th>\n",
              "      <th>alcalinity_of_ash</th>\n",
              "      <th>magnesium</th>\n",
              "      <th>total_phenols</th>\n",
              "      <th>flavanoids</th>\n",
              "      <th>nonflavanoid_phenols</th>\n",
              "      <th>proanthocyanins</th>\n",
              "      <th>color_intensity</th>\n",
              "      <th>hue</th>\n",
              "      <th>od280/od315_of_diluted_wines</th>\n",
              "      <th>proline</th>\n",
              "    </tr>\n",
              "  </thead>\n",
              "  <tbody>\n",
              "    <tr>\n",
              "      <th>0</th>\n",
              "      <td>14.23</td>\n",
              "      <td>1.71</td>\n",
              "      <td>2.43</td>\n",
              "      <td>15.6</td>\n",
              "      <td>127.0</td>\n",
              "      <td>2.80</td>\n",
              "      <td>3.06</td>\n",
              "      <td>0.28</td>\n",
              "      <td>2.29</td>\n",
              "      <td>5.64</td>\n",
              "      <td>1.04</td>\n",
              "      <td>3.92</td>\n",
              "      <td>1065.0</td>\n",
              "    </tr>\n",
              "    <tr>\n",
              "      <th>1</th>\n",
              "      <td>13.20</td>\n",
              "      <td>1.78</td>\n",
              "      <td>2.14</td>\n",
              "      <td>11.2</td>\n",
              "      <td>100.0</td>\n",
              "      <td>2.65</td>\n",
              "      <td>2.76</td>\n",
              "      <td>0.26</td>\n",
              "      <td>1.28</td>\n",
              "      <td>4.38</td>\n",
              "      <td>1.05</td>\n",
              "      <td>3.40</td>\n",
              "      <td>1050.0</td>\n",
              "    </tr>\n",
              "    <tr>\n",
              "      <th>2</th>\n",
              "      <td>13.16</td>\n",
              "      <td>2.36</td>\n",
              "      <td>2.67</td>\n",
              "      <td>18.6</td>\n",
              "      <td>101.0</td>\n",
              "      <td>2.80</td>\n",
              "      <td>3.24</td>\n",
              "      <td>0.30</td>\n",
              "      <td>2.81</td>\n",
              "      <td>5.68</td>\n",
              "      <td>1.03</td>\n",
              "      <td>3.17</td>\n",
              "      <td>1185.0</td>\n",
              "    </tr>\n",
              "    <tr>\n",
              "      <th>3</th>\n",
              "      <td>14.37</td>\n",
              "      <td>1.95</td>\n",
              "      <td>2.50</td>\n",
              "      <td>16.8</td>\n",
              "      <td>113.0</td>\n",
              "      <td>3.85</td>\n",
              "      <td>3.49</td>\n",
              "      <td>0.24</td>\n",
              "      <td>2.18</td>\n",
              "      <td>7.80</td>\n",
              "      <td>0.86</td>\n",
              "      <td>3.45</td>\n",
              "      <td>1480.0</td>\n",
              "    </tr>\n",
              "    <tr>\n",
              "      <th>4</th>\n",
              "      <td>13.24</td>\n",
              "      <td>2.59</td>\n",
              "      <td>2.87</td>\n",
              "      <td>21.0</td>\n",
              "      <td>118.0</td>\n",
              "      <td>2.80</td>\n",
              "      <td>2.69</td>\n",
              "      <td>0.39</td>\n",
              "      <td>1.82</td>\n",
              "      <td>4.32</td>\n",
              "      <td>1.04</td>\n",
              "      <td>2.93</td>\n",
              "      <td>735.0</td>\n",
              "    </tr>\n",
              "  </tbody>\n",
              "</table>\n",
              "</div>\n",
              "    <div class=\"colab-df-buttons\">\n",
              "\n",
              "  <div class=\"colab-df-container\">\n",
              "    <button class=\"colab-df-convert\" onclick=\"convertToInteractive('df-bb24b4d4-8589-4e36-9b2e-40546bd6bd99')\"\n",
              "            title=\"Convert this dataframe to an interactive table.\"\n",
              "            style=\"display:none;\">\n",
              "\n",
              "  <svg xmlns=\"http://www.w3.org/2000/svg\" height=\"24px\" viewBox=\"0 -960 960 960\">\n",
              "    <path d=\"M120-120v-720h720v720H120Zm60-500h600v-160H180v160Zm220 220h160v-160H400v160Zm0 220h160v-160H400v160ZM180-400h160v-160H180v160Zm440 0h160v-160H620v160ZM180-180h160v-160H180v160Zm440 0h160v-160H620v160Z\"/>\n",
              "  </svg>\n",
              "    </button>\n",
              "\n",
              "  <style>\n",
              "    .colab-df-container {\n",
              "      display:flex;\n",
              "      gap: 12px;\n",
              "    }\n",
              "\n",
              "    .colab-df-convert {\n",
              "      background-color: #E8F0FE;\n",
              "      border: none;\n",
              "      border-radius: 50%;\n",
              "      cursor: pointer;\n",
              "      display: none;\n",
              "      fill: #1967D2;\n",
              "      height: 32px;\n",
              "      padding: 0 0 0 0;\n",
              "      width: 32px;\n",
              "    }\n",
              "\n",
              "    .colab-df-convert:hover {\n",
              "      background-color: #E2EBFA;\n",
              "      box-shadow: 0px 1px 2px rgba(60, 64, 67, 0.3), 0px 1px 3px 1px rgba(60, 64, 67, 0.15);\n",
              "      fill: #174EA6;\n",
              "    }\n",
              "\n",
              "    .colab-df-buttons div {\n",
              "      margin-bottom: 4px;\n",
              "    }\n",
              "\n",
              "    [theme=dark] .colab-df-convert {\n",
              "      background-color: #3B4455;\n",
              "      fill: #D2E3FC;\n",
              "    }\n",
              "\n",
              "    [theme=dark] .colab-df-convert:hover {\n",
              "      background-color: #434B5C;\n",
              "      box-shadow: 0px 1px 3px 1px rgba(0, 0, 0, 0.15);\n",
              "      filter: drop-shadow(0px 1px 2px rgba(0, 0, 0, 0.3));\n",
              "      fill: #FFFFFF;\n",
              "    }\n",
              "  </style>\n",
              "\n",
              "    <script>\n",
              "      const buttonEl =\n",
              "        document.querySelector('#df-bb24b4d4-8589-4e36-9b2e-40546bd6bd99 button.colab-df-convert');\n",
              "      buttonEl.style.display =\n",
              "        google.colab.kernel.accessAllowed ? 'block' : 'none';\n",
              "\n",
              "      async function convertToInteractive(key) {\n",
              "        const element = document.querySelector('#df-bb24b4d4-8589-4e36-9b2e-40546bd6bd99');\n",
              "        const dataTable =\n",
              "          await google.colab.kernel.invokeFunction('convertToInteractive',\n",
              "                                                    [key], {});\n",
              "        if (!dataTable) return;\n",
              "\n",
              "        const docLinkHtml = 'Like what you see? Visit the ' +\n",
              "          '<a target=\"_blank\" href=https://colab.research.google.com/notebooks/data_table.ipynb>data table notebook</a>'\n",
              "          + ' to learn more about interactive tables.';\n",
              "        element.innerHTML = '';\n",
              "        dataTable['output_type'] = 'display_data';\n",
              "        await google.colab.output.renderOutput(dataTable, element);\n",
              "        const docLink = document.createElement('div');\n",
              "        docLink.innerHTML = docLinkHtml;\n",
              "        element.appendChild(docLink);\n",
              "      }\n",
              "    </script>\n",
              "  </div>\n",
              "\n",
              "\n",
              "<div id=\"df-52cbb333-a941-46da-b6af-e33512c6b5f0\">\n",
              "  <button class=\"colab-df-quickchart\" onclick=\"quickchart('df-52cbb333-a941-46da-b6af-e33512c6b5f0')\"\n",
              "            title=\"Suggest charts\"\n",
              "            style=\"display:none;\">\n",
              "\n",
              "<svg xmlns=\"http://www.w3.org/2000/svg\" height=\"24px\"viewBox=\"0 0 24 24\"\n",
              "     width=\"24px\">\n",
              "    <g>\n",
              "        <path d=\"M19 3H5c-1.1 0-2 .9-2 2v14c0 1.1.9 2 2 2h14c1.1 0 2-.9 2-2V5c0-1.1-.9-2-2-2zM9 17H7v-7h2v7zm4 0h-2V7h2v10zm4 0h-2v-4h2v4z\"/>\n",
              "    </g>\n",
              "</svg>\n",
              "  </button>\n",
              "\n",
              "<style>\n",
              "  .colab-df-quickchart {\n",
              "      --bg-color: #E8F0FE;\n",
              "      --fill-color: #1967D2;\n",
              "      --hover-bg-color: #E2EBFA;\n",
              "      --hover-fill-color: #174EA6;\n",
              "      --disabled-fill-color: #AAA;\n",
              "      --disabled-bg-color: #DDD;\n",
              "  }\n",
              "\n",
              "  [theme=dark] .colab-df-quickchart {\n",
              "      --bg-color: #3B4455;\n",
              "      --fill-color: #D2E3FC;\n",
              "      --hover-bg-color: #434B5C;\n",
              "      --hover-fill-color: #FFFFFF;\n",
              "      --disabled-bg-color: #3B4455;\n",
              "      --disabled-fill-color: #666;\n",
              "  }\n",
              "\n",
              "  .colab-df-quickchart {\n",
              "    background-color: var(--bg-color);\n",
              "    border: none;\n",
              "    border-radius: 50%;\n",
              "    cursor: pointer;\n",
              "    display: none;\n",
              "    fill: var(--fill-color);\n",
              "    height: 32px;\n",
              "    padding: 0;\n",
              "    width: 32px;\n",
              "  }\n",
              "\n",
              "  .colab-df-quickchart:hover {\n",
              "    background-color: var(--hover-bg-color);\n",
              "    box-shadow: 0 1px 2px rgba(60, 64, 67, 0.3), 0 1px 3px 1px rgba(60, 64, 67, 0.15);\n",
              "    fill: var(--button-hover-fill-color);\n",
              "  }\n",
              "\n",
              "  .colab-df-quickchart-complete:disabled,\n",
              "  .colab-df-quickchart-complete:disabled:hover {\n",
              "    background-color: var(--disabled-bg-color);\n",
              "    fill: var(--disabled-fill-color);\n",
              "    box-shadow: none;\n",
              "  }\n",
              "\n",
              "  .colab-df-spinner {\n",
              "    border: 2px solid var(--fill-color);\n",
              "    border-color: transparent;\n",
              "    border-bottom-color: var(--fill-color);\n",
              "    animation:\n",
              "      spin 1s steps(1) infinite;\n",
              "  }\n",
              "\n",
              "  @keyframes spin {\n",
              "    0% {\n",
              "      border-color: transparent;\n",
              "      border-bottom-color: var(--fill-color);\n",
              "      border-left-color: var(--fill-color);\n",
              "    }\n",
              "    20% {\n",
              "      border-color: transparent;\n",
              "      border-left-color: var(--fill-color);\n",
              "      border-top-color: var(--fill-color);\n",
              "    }\n",
              "    30% {\n",
              "      border-color: transparent;\n",
              "      border-left-color: var(--fill-color);\n",
              "      border-top-color: var(--fill-color);\n",
              "      border-right-color: var(--fill-color);\n",
              "    }\n",
              "    40% {\n",
              "      border-color: transparent;\n",
              "      border-right-color: var(--fill-color);\n",
              "      border-top-color: var(--fill-color);\n",
              "    }\n",
              "    60% {\n",
              "      border-color: transparent;\n",
              "      border-right-color: var(--fill-color);\n",
              "    }\n",
              "    80% {\n",
              "      border-color: transparent;\n",
              "      border-right-color: var(--fill-color);\n",
              "      border-bottom-color: var(--fill-color);\n",
              "    }\n",
              "    90% {\n",
              "      border-color: transparent;\n",
              "      border-bottom-color: var(--fill-color);\n",
              "    }\n",
              "  }\n",
              "</style>\n",
              "\n",
              "  <script>\n",
              "    async function quickchart(key) {\n",
              "      const quickchartButtonEl =\n",
              "        document.querySelector('#' + key + ' button');\n",
              "      quickchartButtonEl.disabled = true;  // To prevent multiple clicks.\n",
              "      quickchartButtonEl.classList.add('colab-df-spinner');\n",
              "      try {\n",
              "        const charts = await google.colab.kernel.invokeFunction(\n",
              "            'suggestCharts', [key], {});\n",
              "      } catch (error) {\n",
              "        console.error('Error during call to suggestCharts:', error);\n",
              "      }\n",
              "      quickchartButtonEl.classList.remove('colab-df-spinner');\n",
              "      quickchartButtonEl.classList.add('colab-df-quickchart-complete');\n",
              "    }\n",
              "    (() => {\n",
              "      let quickchartButtonEl =\n",
              "        document.querySelector('#df-52cbb333-a941-46da-b6af-e33512c6b5f0 button');\n",
              "      quickchartButtonEl.style.display =\n",
              "        google.colab.kernel.accessAllowed ? 'block' : 'none';\n",
              "    })();\n",
              "  </script>\n",
              "</div>\n",
              "\n",
              "    </div>\n",
              "  </div>\n"
            ],
            "application/vnd.google.colaboratory.intrinsic+json": {
              "type": "dataframe",
              "variable_name": "data",
              "summary": "{\n  \"name\": \"data\",\n  \"rows\": 178,\n  \"fields\": [\n    {\n      \"column\": \"alcohol\",\n      \"properties\": {\n        \"dtype\": \"number\",\n        \"std\": 0.8118265380058575,\n        \"min\": 11.03,\n        \"max\": 14.83,\n        \"num_unique_values\": 126,\n        \"samples\": [\n          11.62,\n          13.64,\n          13.69\n        ],\n        \"semantic_type\": \"\",\n        \"description\": \"\"\n      }\n    },\n    {\n      \"column\": \"malic_acid\",\n      \"properties\": {\n        \"dtype\": \"number\",\n        \"std\": 1.1171460976144627,\n        \"min\": 0.74,\n        \"max\": 5.8,\n        \"num_unique_values\": 133,\n        \"samples\": [\n          1.21,\n          2.83,\n          1.8\n        ],\n        \"semantic_type\": \"\",\n        \"description\": \"\"\n      }\n    },\n    {\n      \"column\": \"ash\",\n      \"properties\": {\n        \"dtype\": \"number\",\n        \"std\": 0.27434400906081485,\n        \"min\": 1.36,\n        \"max\": 3.23,\n        \"num_unique_values\": 79,\n        \"samples\": [\n          2.31,\n          2.43,\n          2.52\n        ],\n        \"semantic_type\": \"\",\n        \"description\": \"\"\n      }\n    },\n    {\n      \"column\": \"alcalinity_of_ash\",\n      \"properties\": {\n        \"dtype\": \"number\",\n        \"std\": 3.339563767173505,\n        \"min\": 10.6,\n        \"max\": 30.0,\n        \"num_unique_values\": 63,\n        \"samples\": [\n          25.5,\n          28.5,\n          15.6\n        ],\n        \"semantic_type\": \"\",\n        \"description\": \"\"\n      }\n    },\n    {\n      \"column\": \"magnesium\",\n      \"properties\": {\n        \"dtype\": \"number\",\n        \"std\": 14.282483515295665,\n        \"min\": 70.0,\n        \"max\": 162.0,\n        \"num_unique_values\": 53,\n        \"samples\": [\n          126.0,\n          85.0,\n          162.0\n        ],\n        \"semantic_type\": \"\",\n        \"description\": \"\"\n      }\n    },\n    {\n      \"column\": \"total_phenols\",\n      \"properties\": {\n        \"dtype\": \"number\",\n        \"std\": 0.6258510488339893,\n        \"min\": 0.98,\n        \"max\": 3.88,\n        \"num_unique_values\": 97,\n        \"samples\": [\n          1.68,\n          2.11,\n          1.35\n        ],\n        \"semantic_type\": \"\",\n        \"description\": \"\"\n      }\n    },\n    {\n      \"column\": \"flavanoids\",\n      \"properties\": {\n        \"dtype\": \"number\",\n        \"std\": 0.9988586850169467,\n        \"min\": 0.34,\n        \"max\": 5.08,\n        \"num_unique_values\": 132,\n        \"samples\": [\n          3.18,\n          2.5,\n          3.17\n        ],\n        \"semantic_type\": \"\",\n        \"description\": \"\"\n      }\n    },\n    {\n      \"column\": \"nonflavanoid_phenols\",\n      \"properties\": {\n        \"dtype\": \"number\",\n        \"std\": 0.12445334029667937,\n        \"min\": 0.13,\n        \"max\": 0.66,\n        \"num_unique_values\": 39,\n        \"samples\": [\n          0.58,\n          0.41,\n          0.39\n        ],\n        \"semantic_type\": \"\",\n        \"description\": \"\"\n      }\n    },\n    {\n      \"column\": \"proanthocyanins\",\n      \"properties\": {\n        \"dtype\": \"number\",\n        \"std\": 0.5723588626747613,\n        \"min\": 0.41,\n        \"max\": 3.58,\n        \"num_unique_values\": 101,\n        \"samples\": [\n          0.75,\n          1.77,\n          1.42\n        ],\n        \"semantic_type\": \"\",\n        \"description\": \"\"\n      }\n    },\n    {\n      \"column\": \"color_intensity\",\n      \"properties\": {\n        \"dtype\": \"number\",\n        \"std\": 2.318285871822413,\n        \"min\": 1.28,\n        \"max\": 13.0,\n        \"num_unique_values\": 132,\n        \"samples\": [\n          2.95,\n          3.3,\n          5.1\n        ],\n        \"semantic_type\": \"\",\n        \"description\": \"\"\n      }\n    },\n    {\n      \"column\": \"hue\",\n      \"properties\": {\n        \"dtype\": \"number\",\n        \"std\": 0.22857156582982338,\n        \"min\": 0.48,\n        \"max\": 1.71,\n        \"num_unique_values\": 78,\n        \"samples\": [\n          1.22,\n          1.04,\n          1.45\n        ],\n        \"semantic_type\": \"\",\n        \"description\": \"\"\n      }\n    },\n    {\n      \"column\": \"od280/od315_of_diluted_wines\",\n      \"properties\": {\n        \"dtype\": \"number\",\n        \"std\": 0.7099904287650504,\n        \"min\": 1.27,\n        \"max\": 4.0,\n        \"num_unique_values\": 122,\n        \"samples\": [\n          4.0,\n          1.82,\n          1.59\n        ],\n        \"semantic_type\": \"\",\n        \"description\": \"\"\n      }\n    },\n    {\n      \"column\": \"proline\",\n      \"properties\": {\n        \"dtype\": \"number\",\n        \"std\": 314.9074742768491,\n        \"min\": 278.0,\n        \"max\": 1680.0,\n        \"num_unique_values\": 121,\n        \"samples\": [\n          1375.0,\n          1270.0,\n          735.0\n        ],\n        \"semantic_type\": \"\",\n        \"description\": \"\"\n      }\n    }\n  ]\n}"
            }
          },
          "metadata": {},
          "execution_count": 45
        }
      ]
    },
    {
      "cell_type": "code",
      "source": [
        "data.size, data.ndim, len(data), data.shape[0]"
      ],
      "metadata": {
        "colab": {
          "base_uri": "https://localhost:8080/"
        },
        "id": "b6pOkq17WPKO",
        "outputId": "f3e0f533-e99e-4274-e9cb-99b45a03b6c7"
      },
      "execution_count": 46,
      "outputs": [
        {
          "output_type": "execute_result",
          "data": {
            "text/plain": [
              "(2314, 2, 178, 178)"
            ]
          },
          "metadata": {},
          "execution_count": 46
        }
      ]
    },
    {
      "cell_type": "markdown",
      "source": [
        "**Splitting the data into training and testing (validation) data**"
      ],
      "metadata": {
        "id": "FK7pBu4Ob3CE"
      }
    },
    {
      "cell_type": "code",
      "source": [
        "# from sklearn.model_selection import train_test_split\n",
        "# X_train,X_test,y_train,y_test = train_test_split(data.data, data.target,test_size = 0.20, random_state = 42)"
      ],
      "metadata": {
        "id": "MvYRIrL4Z3D8"
      },
      "execution_count": 58,
      "outputs": []
    },
    {
      "cell_type": "code",
      "source": [
        "X, y = data.data, data.target\n",
        "\n",
        "# Split dataset into training and test sets\n",
        "X_train, X_test, y_train, y_test = train_test_split(X, y, test_size=0.2, random_state=42)"
      ],
      "metadata": {
        "id": "RvJX3f_37geh"
      },
      "execution_count": 57,
      "outputs": []
    },
    {
      "cell_type": "markdown",
      "source": [
        "**Visualizing the splitted data**"
      ],
      "metadata": {
        "id": "2O_n-CW8ei-J"
      }
    },
    {
      "cell_type": "code",
      "source": [
        "X_train, X_test, y_train, y_test"
      ],
      "metadata": {
        "colab": {
          "base_uri": "https://localhost:8080/"
        },
        "id": "yK28H2__eFmu",
        "outputId": "fde6dedb-6404-425e-98f5-13dbea5ce5b1"
      },
      "execution_count": 59,
      "outputs": [
        {
          "output_type": "execute_result",
          "data": {
            "text/plain": [
              "(array([[1.434e+01, 1.680e+00, 2.700e+00, ..., 5.700e-01, 1.960e+00,\n",
              "         6.600e+02],\n",
              "        [1.253e+01, 5.510e+00, 2.640e+00, ..., 8.200e-01, 1.690e+00,\n",
              "         5.150e+02],\n",
              "        [1.237e+01, 1.070e+00, 2.100e+00, ..., 1.040e+00, 2.770e+00,\n",
              "         6.600e+02],\n",
              "        ...,\n",
              "        [1.438e+01, 1.870e+00, 2.380e+00, ..., 1.200e+00, 3.000e+00,\n",
              "         1.547e+03],\n",
              "        [1.269e+01, 1.530e+00, 2.260e+00, ..., 9.600e-01, 2.060e+00,\n",
              "         4.950e+02],\n",
              "        [1.234e+01, 2.450e+00, 2.460e+00, ..., 8.000e-01, 3.380e+00,\n",
              "         4.380e+02]]),\n",
              " array([[1.364000e+01, 3.100000e+00, 2.560000e+00, 1.520000e+01,\n",
              "         1.160000e+02, 2.700000e+00, 3.030000e+00, 1.700000e-01,\n",
              "         1.660000e+00, 5.100000e+00, 9.600000e-01, 3.360000e+00,\n",
              "         8.450000e+02],\n",
              "        [1.421000e+01, 4.040000e+00, 2.440000e+00, 1.890000e+01,\n",
              "         1.110000e+02, 2.850000e+00, 2.650000e+00, 3.000000e-01,\n",
              "         1.250000e+00, 5.240000e+00, 8.700000e-01, 3.330000e+00,\n",
              "         1.080000e+03],\n",
              "        [1.293000e+01, 2.810000e+00, 2.700000e+00, 2.100000e+01,\n",
              "         9.600000e+01, 1.540000e+00, 5.000000e-01, 5.300000e-01,\n",
              "         7.500000e-01, 4.600000e+00, 7.700000e-01, 2.310000e+00,\n",
              "         6.000000e+02],\n",
              "        [1.373000e+01, 1.500000e+00, 2.700000e+00, 2.250000e+01,\n",
              "         1.010000e+02, 3.000000e+00, 3.250000e+00, 2.900000e-01,\n",
              "         2.380000e+00, 5.700000e+00, 1.190000e+00, 2.710000e+00,\n",
              "         1.285000e+03],\n",
              "        [1.237000e+01, 1.170000e+00, 1.920000e+00, 1.960000e+01,\n",
              "         7.800000e+01, 2.110000e+00, 2.000000e+00, 2.700000e-01,\n",
              "         1.040000e+00, 4.680000e+00, 1.120000e+00, 3.480000e+00,\n",
              "         5.100000e+02],\n",
              "        [1.430000e+01, 1.920000e+00, 2.720000e+00, 2.000000e+01,\n",
              "         1.200000e+02, 2.800000e+00, 3.140000e+00, 3.300000e-01,\n",
              "         1.970000e+00, 6.200000e+00, 1.070000e+00, 2.650000e+00,\n",
              "         1.280000e+03],\n",
              "        [1.200000e+01, 3.430000e+00, 2.000000e+00, 1.900000e+01,\n",
              "         8.700000e+01, 2.000000e+00, 1.640000e+00, 3.700000e-01,\n",
              "         1.870000e+00, 1.280000e+00, 9.300000e-01, 3.050000e+00,\n",
              "         5.640000e+02],\n",
              "        [1.340000e+01, 3.910000e+00, 2.480000e+00, 2.300000e+01,\n",
              "         1.020000e+02, 1.800000e+00, 7.500000e-01, 4.300000e-01,\n",
              "         1.410000e+00, 7.300000e+00, 7.000000e-01, 1.560000e+00,\n",
              "         7.500000e+02],\n",
              "        [1.161000e+01, 1.350000e+00, 2.700000e+00, 2.000000e+01,\n",
              "         9.400000e+01, 2.740000e+00, 2.920000e+00, 2.900000e-01,\n",
              "         2.490000e+00, 2.650000e+00, 9.600000e-01, 3.260000e+00,\n",
              "         6.800000e+02],\n",
              "        [1.336000e+01, 2.560000e+00, 2.350000e+00, 2.000000e+01,\n",
              "         8.900000e+01, 1.400000e+00, 5.000000e-01, 3.700000e-01,\n",
              "         6.400000e-01, 5.600000e+00, 7.000000e-01, 2.470000e+00,\n",
              "         7.800000e+02],\n",
              "        [1.350000e+01, 1.810000e+00, 2.610000e+00, 2.000000e+01,\n",
              "         9.600000e+01, 2.530000e+00, 2.610000e+00, 2.800000e-01,\n",
              "         1.660000e+00, 3.520000e+00, 1.120000e+00, 3.820000e+00,\n",
              "         8.450000e+02],\n",
              "        [1.350000e+01, 3.120000e+00, 2.620000e+00, 2.400000e+01,\n",
              "         1.230000e+02, 1.400000e+00, 1.570000e+00, 2.200000e-01,\n",
              "         1.250000e+00, 8.600000e+00, 5.900000e-01, 1.300000e+00,\n",
              "         5.000000e+02],\n",
              "        [1.341000e+01, 3.840000e+00, 2.120000e+00, 1.880000e+01,\n",
              "         9.000000e+01, 2.450000e+00, 2.680000e+00, 2.700000e-01,\n",
              "         1.480000e+00, 4.280000e+00, 9.100000e-01, 3.000000e+00,\n",
              "         1.035000e+03],\n",
              "        [1.277000e+01, 3.430000e+00, 1.980000e+00, 1.600000e+01,\n",
              "         8.000000e+01, 1.630000e+00, 1.250000e+00, 4.300000e-01,\n",
              "         8.300000e-01, 3.400000e+00, 7.000000e-01, 2.120000e+00,\n",
              "         3.720000e+02],\n",
              "        [1.363000e+01, 1.810000e+00, 2.700000e+00, 1.720000e+01,\n",
              "         1.120000e+02, 2.850000e+00, 2.910000e+00, 3.000000e-01,\n",
              "         1.460000e+00, 7.300000e+00, 1.280000e+00, 2.880000e+00,\n",
              "         1.310000e+03],\n",
              "        [1.252000e+01, 2.430000e+00, 2.170000e+00, 2.100000e+01,\n",
              "         8.800000e+01, 2.550000e+00, 2.270000e+00, 2.600000e-01,\n",
              "         1.220000e+00, 2.000000e+00, 9.000000e-01, 2.780000e+00,\n",
              "         3.250000e+02],\n",
              "        [1.141000e+01, 7.400000e-01, 2.500000e+00, 2.100000e+01,\n",
              "         8.800000e+01, 2.480000e+00, 2.010000e+00, 4.200000e-01,\n",
              "         1.440000e+00, 3.080000e+00, 1.100000e+00, 2.310000e+00,\n",
              "         4.340000e+02],\n",
              "        [1.208000e+01, 1.130000e+00, 2.510000e+00, 2.400000e+01,\n",
              "         7.800000e+01, 2.000000e+00, 1.580000e+00, 4.000000e-01,\n",
              "         1.400000e+00, 2.200000e+00, 1.310000e+00, 2.720000e+00,\n",
              "         6.300000e+02],\n",
              "        [1.386000e+01, 1.350000e+00, 2.270000e+00, 1.600000e+01,\n",
              "         9.800000e+01, 2.980000e+00, 3.150000e+00, 2.200000e-01,\n",
              "         1.850000e+00, 7.220000e+00, 1.010000e+00, 3.550000e+00,\n",
              "         1.045000e+03],\n",
              "        [1.208000e+01, 1.390000e+00, 2.500000e+00, 2.250000e+01,\n",
              "         8.400000e+01, 2.560000e+00, 2.290000e+00, 4.300000e-01,\n",
              "         1.040000e+00, 2.900000e+00, 9.300000e-01, 3.190000e+00,\n",
              "         3.850000e+02],\n",
              "        [1.419000e+01, 1.590000e+00, 2.480000e+00, 1.650000e+01,\n",
              "         1.080000e+02, 3.300000e+00, 3.930000e+00, 3.200000e-01,\n",
              "         1.860000e+00, 8.700000e+00, 1.230000e+00, 2.820000e+00,\n",
              "         1.680000e+03],\n",
              "        [1.311000e+01, 1.010000e+00, 1.700000e+00, 1.500000e+01,\n",
              "         7.800000e+01, 2.980000e+00, 3.180000e+00, 2.600000e-01,\n",
              "         2.280000e+00, 5.300000e+00, 1.120000e+00, 3.180000e+00,\n",
              "         5.020000e+02],\n",
              "        [1.233000e+01, 1.100000e+00, 2.280000e+00, 1.600000e+01,\n",
              "         1.010000e+02, 2.050000e+00, 1.090000e+00, 6.300000e-01,\n",
              "         4.100000e-01, 3.270000e+00, 1.250000e+00, 1.670000e+00,\n",
              "         6.800000e+02],\n",
              "        [1.340000e+01, 4.600000e+00, 2.860000e+00, 2.500000e+01,\n",
              "         1.120000e+02, 1.980000e+00, 9.600000e-01, 2.700000e-01,\n",
              "         1.110000e+00, 8.500000e+00, 6.700000e-01, 1.920000e+00,\n",
              "         6.300000e+02],\n",
              "        [1.277000e+01, 2.390000e+00, 2.280000e+00, 1.950000e+01,\n",
              "         8.600000e+01, 1.390000e+00, 5.100000e-01, 4.800000e-01,\n",
              "         6.400000e-01, 9.899999e+00, 5.700000e-01, 1.630000e+00,\n",
              "         4.700000e+02],\n",
              "        [1.378000e+01, 2.760000e+00, 2.300000e+00, 2.200000e+01,\n",
              "         9.000000e+01, 1.350000e+00, 6.800000e-01, 4.100000e-01,\n",
              "         1.030000e+00, 9.580000e+00, 7.000000e-01, 1.680000e+00,\n",
              "         6.150000e+02],\n",
              "        [1.242000e+01, 1.610000e+00, 2.190000e+00, 2.250000e+01,\n",
              "         1.080000e+02, 2.000000e+00, 2.090000e+00, 3.400000e-01,\n",
              "         1.610000e+00, 2.060000e+00, 1.060000e+00, 2.960000e+00,\n",
              "         3.450000e+02],\n",
              "        [1.237000e+01, 1.210000e+00, 2.560000e+00, 1.810000e+01,\n",
              "         9.800000e+01, 2.420000e+00, 2.650000e+00, 3.700000e-01,\n",
              "         2.080000e+00, 4.600000e+00, 1.190000e+00, 2.300000e+00,\n",
              "         6.780000e+02],\n",
              "        [1.208000e+01, 1.830000e+00, 2.320000e+00, 1.850000e+01,\n",
              "         8.100000e+01, 1.600000e+00, 1.500000e+00, 5.200000e-01,\n",
              "         1.640000e+00, 2.400000e+00, 1.080000e+00, 2.270000e+00,\n",
              "         4.800000e+02],\n",
              "        [1.356000e+01, 1.730000e+00, 2.460000e+00, 2.050000e+01,\n",
              "         1.160000e+02, 2.960000e+00, 2.780000e+00, 2.000000e-01,\n",
              "         2.450000e+00, 6.250000e+00, 9.800000e-01, 3.030000e+00,\n",
              "         1.120000e+03],\n",
              "        [1.402000e+01, 1.680000e+00, 2.210000e+00, 1.600000e+01,\n",
              "         9.600000e+01, 2.650000e+00, 2.330000e+00, 2.600000e-01,\n",
              "         1.980000e+00, 4.700000e+00, 1.040000e+00, 3.590000e+00,\n",
              "         1.035000e+03],\n",
              "        [1.237000e+01, 1.630000e+00, 2.300000e+00, 2.450000e+01,\n",
              "         8.800000e+01, 2.220000e+00, 2.450000e+00, 4.000000e-01,\n",
              "         1.900000e+00, 2.120000e+00, 8.900000e-01, 2.780000e+00,\n",
              "         3.420000e+02],\n",
              "        [1.316000e+01, 3.570000e+00, 2.150000e+00, 2.100000e+01,\n",
              "         1.020000e+02, 1.500000e+00, 5.500000e-01, 4.300000e-01,\n",
              "         1.300000e+00, 4.000000e+00, 6.000000e-01, 1.680000e+00,\n",
              "         8.300000e+02],\n",
              "        [1.358000e+01, 1.660000e+00, 2.360000e+00, 1.910000e+01,\n",
              "         1.060000e+02, 2.860000e+00, 3.190000e+00, 2.200000e-01,\n",
              "         1.950000e+00, 6.900000e+00, 1.090000e+00, 2.880000e+00,\n",
              "         1.515000e+03],\n",
              "        [1.375000e+01, 1.730000e+00, 2.410000e+00, 1.600000e+01,\n",
              "         8.900000e+01, 2.600000e+00, 2.760000e+00, 2.900000e-01,\n",
              "         1.810000e+00, 5.600000e+00, 1.150000e+00, 2.900000e+00,\n",
              "         1.320000e+03],\n",
              "        [1.388000e+01, 1.890000e+00, 2.590000e+00, 1.500000e+01,\n",
              "         1.010000e+02, 3.250000e+00, 3.560000e+00, 1.700000e-01,\n",
              "         1.700000e+00, 5.430000e+00, 8.800000e-01, 3.560000e+00,\n",
              "         1.095000e+03]]),\n",
              " array([2, 2, 1, 2, 0, 1, 1, 1, 2, 0, 1, 1, 2, 0, 1, 0, 0, 2, 2, 1, 1, 0,\n",
              "        1, 0, 2, 1, 1, 2, 0, 0, 0, 2, 0, 0, 1, 2, 1, 0, 2, 1, 0, 2, 1, 1,\n",
              "        0, 1, 0, 0, 1, 0, 0, 2, 1, 1, 1, 0, 1, 1, 1, 2, 2, 0, 1, 2, 2, 1,\n",
              "        1, 0, 1, 2, 2, 1, 2, 1, 1, 1, 0, 0, 2, 0, 2, 0, 0, 1, 1, 0, 0, 0,\n",
              "        1, 0, 1, 2, 1, 1, 1, 2, 2, 1, 0, 0, 1, 2, 2, 0, 1, 2, 2, 2, 2, 1,\n",
              "        0, 1, 0, 2, 0, 0, 1, 0, 0, 2, 1, 0, 2, 2, 0, 0, 2, 2, 2, 1, 1, 1,\n",
              "        1, 1, 1, 2, 0, 1, 1, 0, 1, 1]),\n",
              " array([0, 0, 2, 0, 1, 0, 1, 2, 1, 2, 0, 2, 0, 1, 0, 1, 1, 1, 0, 1, 0, 1,\n",
              "        1, 2, 2, 2, 1, 1, 1, 0, 0, 1, 2, 0, 0, 0]))"
            ]
          },
          "metadata": {},
          "execution_count": 59
        }
      ]
    },
    {
      "cell_type": "code",
      "source": [
        "# Checking the number of rows of the split data\n",
        "len(X_train), len(y_train), len(X_test), len(y_test)"
      ],
      "metadata": {
        "colab": {
          "base_uri": "https://localhost:8080/"
        },
        "id": "JCWjHFp5uv7P",
        "outputId": "93217e50-9d1a-4301-e824-5d93a1c356ff"
      },
      "execution_count": 60,
      "outputs": [
        {
          "output_type": "execute_result",
          "data": {
            "text/plain": [
              "(142, 142, 36, 36)"
            ]
          },
          "metadata": {},
          "execution_count": 60
        }
      ]
    },
    {
      "cell_type": "markdown",
      "source": [
        "**Training the DecisionTree Model**"
      ],
      "metadata": {
        "id": "W6T665Mg6aRu"
      }
    },
    {
      "cell_type": "code",
      "source": [
        "from sklearn.tree import DecisionTreeClassifier\n",
        "from sklearn import tree\n",
        "model = DecisionTreeClassifier(criterion=\"entropy\")\n",
        "model = model.fit(X_train, y_train)"
      ],
      "metadata": {
        "id": "Z1xofJw3w-of"
      },
      "execution_count": 61,
      "outputs": []
    },
    {
      "cell_type": "markdown",
      "source": [
        "**Graph Visualization**"
      ],
      "metadata": {
        "id": "wq6Ht1kQ2dRV"
      }
    },
    {
      "cell_type": "code",
      "source": [
        "# plot tree\n",
        "plt.figure(figsize=(10, 7))  # set plot size (denoted in inches)\n",
        "tree.plot_tree(model, fontsize=8)\n",
        "plt.show()"
      ],
      "metadata": {
        "colab": {
          "base_uri": "https://localhost:8080/",
          "height": 576
        },
        "id": "Rm6NnsPu2cu2",
        "outputId": "79f268be-cbb4-4477-ce48-3ba542481265"
      },
      "execution_count": 62,
      "outputs": [
        {
          "output_type": "display_data",
          "data": {
            "text/plain": [
              "<Figure size 1000x700 with 1 Axes>"
            ],
            "image/png": "[encoded data removed]"
          },
          "metadata": {}
        }
      ]
    },
    {
      "cell_type": "markdown",
      "source": [
        "**Testing the decision tree model with the X_test dataset**"
      ],
      "metadata": {
        "id": "DB9DxdUiBJmg"
      }
    },
    {
      "cell_type": "code",
      "source": [
        "y_pred = model.predict(X_test)"
      ],
      "metadata": {
        "id": "Sbl9IKSn6sEL"
      },
      "execution_count": 63,
      "outputs": []
    },
    {
      "cell_type": "code",
      "source": [
        "y_pred"
      ],
      "metadata": {
        "colab": {
          "base_uri": "https://localhost:8080/"
        },
        "id": "WKMez-phzl-M",
        "outputId": "794ce280-92bd-49a6-f5bd-0e639876e01b"
      },
      "execution_count": 64,
      "outputs": [
        {
          "output_type": "execute_result",
          "data": {
            "text/plain": [
              "array([0, 0, 1, 0, 1, 0, 1, 2, 1, 0, 0, 1, 0, 1, 0, 1, 1, 1, 0, 1, 0, 1,\n",
              "       1, 2, 2, 2, 1, 1, 1, 0, 0, 1, 2, 0, 0, 0])"
            ]
          },
          "metadata": {},
          "execution_count": 64
        }
      ]
    },
    {
      "cell_type": "code",
      "source": [
        "y_test"
      ],
      "metadata": {
        "colab": {
          "base_uri": "https://localhost:8080/"
        },
        "id": "XBWb9jEZSnKJ",
        "outputId": "eef524eb-034d-4971-f37f-4b13ea9ad24d"
      },
      "execution_count": 65,
      "outputs": [
        {
          "output_type": "execute_result",
          "data": {
            "text/plain": [
              "array([0, 0, 2, 0, 1, 0, 1, 2, 1, 2, 0, 2, 0, 1, 0, 1, 1, 1, 0, 1, 0, 1,\n",
              "       1, 2, 2, 2, 1, 1, 1, 0, 0, 1, 2, 0, 0, 0])"
            ]
          },
          "metadata": {},
          "execution_count": 65
        }
      ]
    },
    {
      "cell_type": "markdown",
      "source": [
        "**Determine the accuracy of the decision tree prediction**"
      ],
      "metadata": {
        "id": "sWh1YhUoRoVI"
      }
    },
    {
      "cell_type": "code",
      "source": [
        "from sklearn.metrics import accuracy_score\n",
        "# Calculate the accuracy score\n",
        "accuracy = accuracy_score(y_pred, y_test)\n",
        "print(\"Accuracy: \", round(accuracy * 100, 3))"
      ],
      "metadata": {
        "id": "TNvQG-M6CPon",
        "colab": {
          "base_uri": "https://localhost:8080/"
        },
        "outputId": "5085d7ee-8374-486a-f92c-8b801db92b26"
      },
      "execution_count": 66,
      "outputs": [
        {
          "output_type": "stream",
          "name": "stdout",
          "text": [
            "Accuracy:  91.667\n"
          ]
        }
      ]
    },
    {
      "cell_type": "code",
      "source": [],
      "metadata": {
        "id": "vZm7Ku48coOo"
      },
      "execution_count": 42,
      "outputs": []
    }
  ]
}